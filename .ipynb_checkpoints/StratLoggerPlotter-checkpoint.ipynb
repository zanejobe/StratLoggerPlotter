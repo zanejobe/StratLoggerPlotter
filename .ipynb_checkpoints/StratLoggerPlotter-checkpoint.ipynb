{
 "cells": [
  {
   "cell_type": "markdown",
   "metadata": {},
   "source": [
    "# Plot a Striplog from a StratLogger CSV\n",
    "\n",
    "Uses format exported by \"StratLogger,\" an Android app for quick-logging stratigraphic sections that was developed at Colorado School of Mines\n",
    "https://github.com/jcliang001/Stratlogger"
   ]
  },
  {
   "cell_type": "code",
   "execution_count": 23,
   "metadata": {},
   "outputs": [
    {
     "name": "stdout",
     "output_type": "stream",
     "text": [
      "FYI, the striplog version you have is 0.8.3\n"
     ]
    }
   ],
   "source": [
    "#%matplotlib inline\n",
    "import matplotlib.pyplot as plt\n",
    "import numpy as np\n",
    "\n",
    "import striplog\n",
    "from striplog import Lexicon, Decor, Component, Legend, Interval, Striplog\n",
    "print('FYI, the striplog version you have is',striplog.__version__)"
   ]
  },
  {
   "cell_type": "markdown",
   "metadata": {},
   "source": [
    "## Make legend\n",
    "\n",
    "Most of the stuff in the dicts you made were about **display** — so they are going to make `Decor` objects. A collection of `Decor`s makes a `Legend`. A `Legend` determines how a striplog is displayed.\n",
    "\n",
    "First I'll make the components, since those are easy. I'll move `'train'` into there too, since it is to do with the rocks, not the display. If it seems weird having `'train'` in the `Component` (which is really supposed to be about direct descriptions of the rock, but the idea is that it's always the same for all specimens of that rock so it does fit here) then you could put it in `data` instead. "
   ]
  },
  {
   "cell_type": "code",
   "execution_count": 2,
   "metadata": {},
   "outputs": [],
   "source": [
    "# define your abbreviations here, this is what the CSV will read in\n",
    "\n",
    "facies = {\n",
    "    'sand': Component({'lithology': 'sandstone', 'train':'y'}),\n",
    "    'mud': Component({'lithology': 'mudstone', 'train':'y'}),\n",
    "    'other': Component({'lithology': 'calcilutite', 'train': 'n'}),\n",
    "}"
   ]
  },
  {
   "cell_type": "code",
   "execution_count": 3,
   "metadata": {},
   "outputs": [
    {
     "data": {
      "text/plain": [
       "dict_keys(['sand', 'mud', 'other'])"
      ]
     },
     "execution_count": 3,
     "metadata": {},
     "output_type": "execute_result"
    }
   ],
   "source": [
    "facies.keys()"
   ]
  },
  {
   "cell_type": "code",
   "execution_count": 4,
   "metadata": {},
   "outputs": [
    {
     "data": {
      "text/html": [
       "<table><tr><th>colour</th><th>edgecolor</th><th>hatch</th><th>width</th><th>component</th></tr><tr><td style=\"color:#000000; background-color:#ffff00\">#ffff00</td><td style=\"color:black; background-color:white\">k</td><td style=\"color:black; background-color:white\">None</td><td style=\"color:black; background-color:white\">3.0</td><td style=\"color:black; background-color:white\"><table><tr><td><strong>lithology</strong></td><td>sandstone</td></tr><tr><td><strong>train</strong></td><td>y</td></tr></table></td></tr><tr><td style=\"color:#000000; background-color:#a9a9a9\">#a9a9a9</td><td style=\"color:black; background-color:white\">k</td><td style=\"color:black; background-color:white\">None</td><td style=\"color:black; background-color:white\">2.0</td><td style=\"color:black; background-color:white\"><table><tr><td><strong>lithology</strong></td><td>mudstone</td></tr><tr><td><strong>train</strong></td><td>y</td></tr></table></td></tr><tr><td style=\"color:#ffffff; background-color:#0000ff\">#0000ff</td><td style=\"color:black; background-color:white\">k</td><td style=\"color:black; background-color:white\">None</td><td style=\"color:black; background-color:white\">1.0</td><td style=\"color:black; background-color:white\"><table><tr><td><strong>lithology</strong></td><td>calcilutite</td></tr><tr><td><strong>train</strong></td><td>n</td></tr></table></td></tr></table>"
      ],
      "text/plain": [
       "Legend(Decor({'component': Component({'lithology': 'sandstone', 'train': 'y'}), '_colour': '#ffff00', 'hatch': None, 'width': 3.0, 'edgecolor': 'k'})\n",
       "Decor({'component': Component({'lithology': 'mudstone', 'train': 'y'}), '_colour': '#a9a9a9', 'hatch': None, 'width': 2.0, 'edgecolor': 'k'})\n",
       "Decor({'component': Component({'lithology': 'calcilutite', 'train': 'n'}), '_colour': '#0000ff', 'hatch': None, 'width': 1.0, 'edgecolor': 'k'}))"
      ]
     },
     "execution_count": 4,
     "metadata": {},
     "output_type": "execute_result"
    }
   ],
   "source": [
    "# pick how your facies will look in the log, see striplog for specfics\n",
    "\n",
    "# NEED TO FIGURE OUT HOW TO PLOT EDGECOLORS!!!!!!!!!!\n",
    "########\n",
    "########\n",
    "#######\n",
    "\n",
    "sandstone = Decor({\n",
    "    'component': facies['sand'],\n",
    "    'colour': 'yellow',\n",
    "    'hatch': 'none',\n",
    "    'width': '3',\n",
    "    'edgecolor': 'k',\n",
    "})\n",
    "\n",
    "mudstone = Decor({\n",
    "    'component': facies['mud'],\n",
    "    'colour': 'darkgray',\n",
    "    'hatch': 'none',\n",
    "    'width': '2',\n",
    "    'edgecolor': 'k',\n",
    "})\n",
    "\n",
    "calcilutite = Decor({\n",
    "    'component': facies['other'],\n",
    "    'colour': 'blue',\n",
    "    'hatch': 'none',\n",
    "    'width': '1',\n",
    "    'edgecolor': 'k',\n",
    "})\n",
    "legend = Legend([sandstone, mudstone, calcilutite])\n",
    "legend"
   ]
  },
  {
   "cell_type": "markdown",
   "metadata": {},
   "source": [
    "## Read CSV into striplog"
   ]
  },
  {
   "cell_type": "code",
   "execution_count": 7,
   "metadata": {},
   "outputs": [
    {
     "data": {
      "text/html": [
       "<table><tr><td style=\"width:2em; background-color:#DDDDDD\" rowspan=\"6\"></td><td><strong>top</strong></td><td>0.25</td></tr><tr><td><strong>primary</strong></td><td>None</td></tr><tr><td><strong>summary</strong></td><td>None</td></tr><tr><td><strong>description</strong></td><td></td></tr><tr><td><strong>data</strong></td><td><table><tr><td><strong>sectionname</strong></td><td>chance1.csv</td></tr><tr><td><strong>bednum</strong></td><td>1.0</td></tr><tr><td><strong>lith</strong></td><td>2.0</td></tr><tr><td><strong>lithname</strong></td><td>other</td></tr><tr><td><strong>thickness</strong></td><td>25.0</td></tr><tr><td><strong>bedid</strong></td><td>a1</td></tr><tr><td><strong>note</strong></td><td></td></tr><tr><td><strong>picturename</strong></td><td>chance1.csv_1</td></tr></table></td></tr><tr><td><strong>base</strong></td><td>0.0</td></tr></table>"
      ],
      "text/plain": [
       "Interval({'top': Position({'middle': 0.25, 'units': 'm'}), 'base': Position({'middle': 0.0, 'upper': 0.0, 'lower': 0.0, 'units': 'm'}), 'description': '', 'data': {'sectionname': 'chance1.csv', 'bednum': 1.0, 'lith': 2.0, 'lithname': 'other', 'thickness': 25.0, 'bedid': 'a1', 'note': '', 'picturename': 'chance1.csv_1'}, 'components': []})"
      ]
     },
     "execution_count": 7,
     "metadata": {},
     "output_type": "execute_result"
    }
   ],
   "source": [
    "pathname = '/Users/zanejobe/Dropbox/_code/Github/StratLoggerPlotter/'\n",
    "filename = 'chance1.csv'\n",
    "strip = Striplog.from_csv(pathname + filename) # reading in the CSV file\n",
    "\n",
    "strip[-1] # quick test of the lowermost bed in the log"
   ]
  },
  {
   "cell_type": "markdown",
   "metadata": {},
   "source": [
    "## Deal with lithology\n",
    "\n",
    "The lithology has been turned into a component, but it's using the abbreviation... I can't figure out an elegant way to deal with this so, for now, we'll just loop over the striplog and fix it. We read the `data` item's lithology (`'s'` in the top layer), then look up the correct lithology name in our abbreviation dictionary, then add the new component in the proper place. Finally, we delete the `data` we had."
   ]
  },
  {
   "cell_type": "code",
   "execution_count": 15,
   "metadata": {},
   "outputs": [
    {
     "data": {
      "text/plain": [
       "'a1'"
      ]
     },
     "execution_count": 15,
     "metadata": {},
     "output_type": "execute_result"
    }
   ],
   "source": [
    "strip[-1].data['bedid']"
   ]
  },
  {
   "cell_type": "code",
   "execution_count": 16,
   "metadata": {},
   "outputs": [],
   "source": [
    "for s in strip:\n",
    "    lith = s.data['lithname']\n",
    "    s.components = [facies[lith]]\n",
    "    s.bedid = s.data['bedid']\n",
    "    s.data = {}\n",
    "# DONT RUN THIS AGAIN"
   ]
  },
  {
   "cell_type": "code",
   "execution_count": 18,
   "metadata": {},
   "outputs": [
    {
     "data": {
      "text/plain": [
       "'a1'"
      ]
     },
     "execution_count": 18,
     "metadata": {},
     "output_type": "execute_result"
    }
   ],
   "source": [
    "strip[-1].bedid"
   ]
  },
  {
   "cell_type": "markdown",
   "metadata": {},
   "source": [
    "That's better!"
   ]
  },
  {
   "cell_type": "code",
   "execution_count": 21,
   "metadata": {
    "scrolled": true
   },
   "outputs": [
    {
     "ename": "NameError",
     "evalue": "name 'lithology' is not defined",
     "output_type": "error",
     "traceback": [
      "\u001b[0;31m---------------------------------------------------------------------------\u001b[0m",
      "\u001b[0;31mNameError\u001b[0m                                 Traceback (most recent call last)",
      "\u001b[0;32m<ipython-input-21-b526f69f124e>\u001b[0m in \u001b[0;36m<module>\u001b[0;34m\u001b[0m\n\u001b[0;32m----> 1\u001b[0;31m \u001b[0mfig\u001b[0m \u001b[0;34m=\u001b[0m \u001b[0mstrip\u001b[0m\u001b[0;34m.\u001b[0m\u001b[0mplot\u001b[0m\u001b[0;34m(\u001b[0m\u001b[0mlabel\u001b[0m\u001b[0;34m=\u001b[0m\u001b[0mlithology\u001b[0m\u001b[0;34m,\u001b[0m\u001b[0mlegend\u001b[0m\u001b[0;34m=\u001b[0m\u001b[0mlegend\u001b[0m\u001b[0;34m,\u001b[0m\u001b[0mreturn_fig\u001b[0m\u001b[0;34m=\u001b[0m\u001b[0;32mTrue\u001b[0m\u001b[0;34m)\u001b[0m\u001b[0;34m\u001b[0m\u001b[0;34m\u001b[0m\u001b[0m\n\u001b[0m",
      "\u001b[0;31mNameError\u001b[0m: name 'lithology' is not defined"
     ]
    }
   ],
   "source": [
    "fig = strip.plot(label=lithology,legend=legend,return_fig=True)"
   ]
  },
  {
   "cell_type": "code",
   "execution_count": 10,
   "metadata": {},
   "outputs": [],
   "source": [
    "# Save figure\n",
    "fig.savefig(filename + '_export.pdf')\n"
   ]
  },
  {
   "cell_type": "markdown",
   "metadata": {},
   "source": [
    "## Remove non-training layers"
   ]
  },
  {
   "cell_type": "code",
   "execution_count": 11,
   "metadata": {},
   "outputs": [
    {
     "data": {
      "text/plain": [
       "Striplog(68 Intervals, start=0.0, stop=16.67)"
      ]
     },
     "execution_count": 11,
     "metadata": {},
     "output_type": "execute_result"
    }
   ],
   "source": [
    "strip"
   ]
  },
  {
   "cell_type": "code",
   "execution_count": 12,
   "metadata": {},
   "outputs": [],
   "source": [
    "strip_train = Striplog([s for s in strip if s.primary['train'] == 'y'])"
   ]
  },
  {
   "cell_type": "code",
   "execution_count": 13,
   "metadata": {},
   "outputs": [
    {
     "data": {
      "image/png": "[encoded data removed]",
      "text/plain": [
       "<Figure size 108x1080 with 1 Axes>"
      ]
     },
     "metadata": {
      "needs_background": "light"
     },
     "output_type": "display_data"
    }
   ],
   "source": [
    "strip_train\n",
    "\n",
    "strip_train.plot(legend)"
   ]
  },
  {
   "cell_type": "code",
   "execution_count": 14,
   "metadata": {},
   "outputs": [
    {
     "data": {
      "image/png": "[encoded data removed]",
      "text/plain": [
       "<Figure size 504x792 with 2 Axes>"
      ]
     },
     "metadata": {
      "needs_background": "light"
     },
     "output_type": "display_data"
    }
   ],
   "source": [
    "# plottin' & exportin'\n",
    "\n",
    "fig, (ax0, ax1) = plt.subplots(1, 2, sharey=True)\n",
    "fig.set_size_inches(7, 11) # Set the figure size\n",
    "\n",
    "ax0 = strip.plot(legend, ax=ax0)\n",
    "ax1 = strip_train.plot(legend, ax=ax1)\n",
    "\n",
    "ax0.set_title('Picks')\n",
    "ax1.set_title('Training')\n",
    "\n",
    "ax0.set_ylabel('Depth (m)', size=16)\n",
    "\n",
    "plt.show()\n",
    "fig.savefig('Picks_v_training.pdf', dpi=300)"
   ]
  },
  {
   "cell_type": "code",
   "execution_count": 15,
   "metadata": {},
   "outputs": [
    {
     "name": "stdout",
     "output_type": "stream",
     "text": [
      "Top,Base,Component\r\n",
      "16.67,16.54,\"Sandstone, y\"\r\n",
      "16.54,16.46,\"Mudstone, y\"\r\n",
      "16.46,16.33,\"Sandstone, y\"\r\n",
      "16.33,15.99,\"Mudstone, y\"\r\n",
      "15.99,15.69,\"Sandstone, y\"\r\n",
      "15.69,15.64,\"Mudstone, y\"\r\n",
      "15.64,15.53,\"Sandstone, y\"\r\n",
      "15.53,15.37,\"Mudstone, y\"\r\n",
      "15.37,15.22,\"Sandstone, y\"\r\n",
      "15.22,15.16,\"Mudstone, y\"\r\n",
      "15.16,15.07,\"Sandstone, y\"\r\n",
      "15.07,14.24,\"Mudstone, y\"\r\n",
      "14.24,14.13,\"Sandstone, y\"\r\n",
      "14.13,13.97,\"Mudstone, y\"\r\n",
      "13.97,13.77,\"Sandstone, y\"\r\n",
      "13.77,13.66,\"Mudstone, y\"\r\n",
      "13.66,13.34,\"Sandstone, y\"\r\n",
      "13.34,12.28,\"Mudstone, y\"\r\n",
      "12.28,12.17,\"Sandstone, y\"\r\n",
      "12.17,11.67,\"Mudstone, y\"\r\n",
      "11.67,11.54,\"Sandstone, y\"\r\n",
      "11.54,11.51,\"Mudstone, y\"\r\n",
      "11.51,11.34,\"Sandstone, y\"\r\n",
      "11.34,11.29,\"Mudstone, y\"\r\n",
      "11.29,11.16,\"Sandstone, y\"\r\n",
      "11.16,11.11,\"Mudstone, y\"\r\n",
      "11.11,10.97,\"Sandstone, y\"\r\n",
      "10.97,9.86,\"Mudstone, y\"\r\n",
      "9.86,9.81,\"Calcilutite, n\"\r\n",
      "9.81,9.34,\"Mudstone, y\"\r\n",
      "9.34,9.3,\"Sandstone, y\"\r\n",
      "9.3,9.12,\"Mudstone, y\"\r\n",
      "9.12,9.06,\"Sandstone, y\"\r\n",
      "9.06,8.48,\"Mudstone, y\"\r\n",
      "8.48,8.34,\"Mudstone, y\"\r\n",
      "8.34,8.15,\"Sandstone, y\"\r\n",
      "8.15,7.13,\"Mudstone, y\"\r\n",
      "7.13,7.07,\"Sandstone, y\"\r\n",
      "7.07,6.98,\"Mudstone, y\"\r\n",
      "6.98,6.96,\"Sandstone, y\"\r\n",
      "6.96,6.69,\"Mudstone, y\"\r\n",
      "6.69,6.67,\"Sandstone, y\"\r\n",
      "6.67,6.59,\"Mudstone, y\"\r\n",
      "6.59,6.56,\"Sandstone, y\"\r\n",
      "6.56,4.04,\"Mudstone, y\"\r\n",
      "4.04,3.64,\"Calcilutite, n\"\r\n",
      "3.64,3.18,\"Mudstone, y\"\r\n",
      "3.18,3.09,\"Sandstone, y\"\r\n",
      "3.09,2.97,\"Mudstone, y\"\r\n",
      "2.97,2.94,\"Sandstone, y\"\r\n",
      "2.94,2.63,\"Mudstone, y\"\r\n",
      "2.63,2.59,\"Sandstone, y\"\r\n",
      "2.59,2.47,\"Mudstone, y\"\r\n",
      "2.47,2.43,\"Sandstone, y\"\r\n",
      "2.43,2.39,\"Mudstone, y\"\r\n",
      "2.39,2.36,\"Sandstone, y\"\r\n",
      "2.36,2.2,\"Mudstone, y\"\r\n",
      "2.2,2.16,\"Sandstone, y\"\r\n",
      "2.16,2.02,\"Mudstone, y\"\r\n",
      "2.02,1.92,\"Sandstone, y\"\r\n",
      "1.92,1.6,\"Mudstone, y\"\r\n",
      "1.6,1.55,\"Sandstone, y\"\r\n",
      "1.55,1.43,\"Mudstone, y\"\r\n",
      "1.43,1.39,\"Sandstone, y\"\r\n",
      "1.39,1.22,\"Mudstone, y\"\r\n",
      "1.22,0.83,\"Calcilutite, n\"\r\n",
      "0.83,0.25,\"Mudstone, y\"\r\n",
      "0.25,0.0,\"Calcilutite, n\"\r\n",
      "\n"
     ]
    }
   ],
   "source": [
    "print(strip.to_csv())"
   ]
  },
  {
   "cell_type": "code",
   "execution_count": null,
   "metadata": {},
   "outputs": [],
   "source": []
  }
 ],
 "metadata": {
  "kernelspec": {
   "display_name": "Python 3",
   "language": "python",
   "name": "python3"
  },
  "language_info": {
   "codemirror_mode": {
    "name": "ipython",
    "version": 3
   },
   "file_extension": ".py",
   "mimetype": "text/x-python",
   "name": "python",
   "nbconvert_exporter": "python",
   "pygments_lexer": "ipython3",
   "version": "3.7.4"
  }
 },
 "nbformat": 4,
 "nbformat_minor": 2
}
